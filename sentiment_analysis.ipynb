{
   "cells": [
      {
         "cell_type": "markdown",
         "metadata": {},
         "source": [
            "# Sentiment Analysis\n",
            "\n",
            "### ECE590 Homework assignment 2\n",
            "Name: Javier Cervantes\n",
            "net id: jc1010\n",
            "\n",
            "We are interested in sentiment analysis. Given a short document, we wish to assess whether the corresponding sentiment is positive (label 𝑦=1 ) or negative (label 𝑦=0). The assignment is as follows: \n",
            "\n",
            "1. For every word, we will learn a corresponding d-dimensional vector $x_i \\in \\mathbb{R}^d$ for word $i$ in the vocabulary. \n",
            "\n",
            "2. Assume that there are $M_j$ words in document $j$. The feature vector for this document is $f_j = \\frac{1}{M_j} \\sum_{i=1}^{M_j} x_{(m, j)}$ such that $x_{(m, j)}$ is the d-dimensional vector for the m-th word in document j.\n",
            "\n",
            "3. The probability of positive sentiment for document j is modeled as $P(y_j = 1 | f_j) = \\sigma[w \\cdot f_j + b]$ where $\\sigma$ is the sigmoid function, $w \\in \\mathbb{R}^d$ is the weight vector and $b \\in \\mathbb{R}$ is the bias."
         ]
      },
      {
         "cell_type": "code",
         "execution_count": 1,
         "metadata": {},
         "outputs": [],
         "source": [
            "from datasets import load_dataset\n",
            "import torch\n",
            "import torch.nn as nn\n",
            "import torch.nn.functional as F\n",
            "import torch.optim as optim\n",
            "import torchtext\n",
            "import nltk\n",
            "from nltk.corpus import stopwords\n",
            "from datasets import load_from_disk\n",
            "import numpy as np\n",
            "import tqdm\n",
            "import pandas as pd\n",
            "from datasets import Dataset\n",
            "import collections"
         ]
      },
      {
         "cell_type": "code",
         "execution_count": 2,
         "metadata": {},
         "outputs": [],
         "source": [
            "seed = 257\n",
            "\n",
            "np.random.seed(seed)\n",
            "torch.manual_seed(seed)\n",
            "torch.cuda.manual_seed(seed)\n",
            "torch.backends.cudnn.deterministic = True"
         ]
      },
      {
         "cell_type": "markdown",
         "metadata": {},
         "source": [
            "## Prepare the data\n",
            "\n",
            "We begin by tokenizing and cleaning the text. In this process, we'll remove punctuation, convert to lowercase, and remove stopwords. I believe that it's worth noting that removing stop words might be problematic in some model designs. For this particular model, which doesn't take into account word order, removing words like \"not\" should not affect the model's performance because the model won't have the capability of identifying where upon a given document the word \"not\" is located."
         ]
      },
      {
         "cell_type": "code",
         "execution_count": 3,
         "metadata": {},
         "outputs": [],
         "source": [
            "# load the dataset\n",
            "train_data, test_data = load_dataset(\"yelp_polarity\", split=[\"train\", \"test\"])"
         ]
      },
      {
         "cell_type": "code",
         "execution_count": 7,
         "metadata": {},
         "outputs": [],
         "source": [
            "# tokenize the dataset\n",
            "tokenizer = torchtext.data.utils.get_tokenizer(\"basic_english\")\n",
            "\n",
            "\n",
            "def tokenize(obs, tokenizer, max_length):\n",
            "    \"\"\"\n",
            "    Tokenize an observation\n",
            "    max_length: the maximum length of the tokenized sequence\n",
            "    \"\"\"\n",
            "    return {\"tokens\": tokenizer(obs[\"text\"])[:max_length]}"
         ]
      },
      {
         "cell_type": "code",
         "execution_count": 5,
         "metadata": {},
         "outputs": [
            {
               "name": "stderr",
               "output_type": "stream",
               "text": [
                  "[nltk_data] Downloading package stopwords to\n",
                  "[nltk_data]     C:\\Users\\cerva\\AppData\\Roaming\\nltk_data...\n",
                  "[nltk_data]   Package stopwords is already up-to-date!\n"
               ]
            },
            {
               "data": {
                  "text/plain": [
                     "True"
                  ]
               },
               "execution_count": 5,
               "metadata": {},
               "output_type": "execute_result"
            }
         ],
         "source": [
            "nltk.download(\"stopwords\")"
         ]
      },
      {
         "cell_type": "code",
         "execution_count": 8,
         "metadata": {},
         "outputs": [],
         "source": [
            "# remove stopwords and punctuation\n",
            "stop_words = stopwords.words(\"english\")\n",
            "\n",
            "\n",
            "def remove_stopwords(obs):\n",
            "    \"\"\"\n",
            "    Removes stopwords from tokens for each obs in Dataset\n",
            "    \"\"\"\n",
            "    obs[\"tokens\"] = [word for word in obs[\"tokens\"] if word not in stop_words]\n",
            "    return obs\n",
            "\n",
            "\n",
            "def remove_punctuation(obs):\n",
            "    \"\"\"\n",
            "    Removes punctuation from tokens for each obs in Dataset\n",
            "    \"\"\"\n",
            "    obs[\"tokens\"] = [word for word in obs[\"tokens\"] if word.isalpha()]\n",
            "    return obs\n",
            "\n",
            "\n",
            "def tokenize_and_clean(obs, max_length):\n",
            "    \"\"\"\n",
            "    Tokenize, remove stopwords and punctuation from observation\n",
            "    \"\"\"\n",
            "    tokens = tokenizer(obs[\"text\"][:max_length])\n",
            "    tokens = [word for word in tokens if word not in stop_words]\n",
            "    tokens = [word for word in tokens if word.isalpha()]\n",
            "    return {\"tokens\": tokens}\n",
            "\n",
            "\n",
            "# train_data = train_data.map(remove_stopwords)"
         ]
      },
      {
         "cell_type": "markdown",
         "metadata": {},
         "source": [
            "Working under the assumption that a document's sentiment can be identified rather quickly, I've set the maximum length of a document to 100 words. This is a hyperparameter that can be adjusted to improve the model's performance."
         ]
      },
      {
         "cell_type": "code",
         "execution_count": 9,
         "metadata": {},
         "outputs": [
            {
               "data": {
                  "application/vnd.jupyter.widget-view+json": {
                     "model_id": "65de9a2d6a4e461ab80044948222d993",
                     "version_major": 2,
                     "version_minor": 0
                  },
                  "text/plain": [
                     "Map:   0%|          | 0/560000 [00:00<?, ? examples/s]"
                  ]
               },
               "metadata": {},
               "output_type": "display_data"
            }
         ],
         "source": [
            "max_length = 100\n",
            "\n",
            "# tokenizer(train_data[0][\"text\"][:512])\n",
            "\n",
            "train_data = train_data.map(tokenize_and_clean, fn_kwargs={\"max_length\": max_length})\n",
            "\n",
            "# test_data = test_data.map(tokenize_and_clean)"
         ]
      },
      {
         "cell_type": "code",
         "execution_count": 8,
         "metadata": {},
         "outputs": [],
         "source": [
            "# train_data.save_to_disk(\"/datasets/yelp_polarity_train\")\n",
            "# train_data = load_from_disk(\"/datasets/yelp_polarity_train/\")"
         ]
      },
      {
         "cell_type": "markdown",
         "metadata": {},
         "source": [
            "Now that our data has been tokenized and cleaned, we can create a validation set."
         ]
      },
      {
         "cell_type": "code",
         "execution_count": 10,
         "metadata": {},
         "outputs": [],
         "source": [
            "# validation data\n",
            "train_valid_data = train_data.train_test_split(test_size=0.25)\n",
            "train_data = train_valid_data[\"train\"]\n",
            "valid_data = train_valid_data[\"test\"]"
         ]
      },
      {
         "cell_type": "markdown",
         "metadata": {},
         "source": [
            "From the training data, we now proceed to create a vocabulary comprised of the training data's unique words. Given the large number of documents in the training set, I'll add a minimum frequency threshold of 30 for every word to be included in the vocabulary. Given the large number of observations we have available, removing words that appear only a few times should not affect the model's performance.\n",
            "\n",
            "Also very important in the creation of our vocabulary is to add a couple of special tokens: one for padding and one for unknown words. The padding token will be used to make all documents the same length, and the unknown token will be used to catch words that are not in the vocabulary."
         ]
      },
      {
         "cell_type": "code",
         "execution_count": 11,
         "metadata": {},
         "outputs": [
            {
               "data": {
                  "text/plain": [
                     "7827"
                  ]
               },
               "execution_count": 11,
               "metadata": {},
               "output_type": "execute_result"
            }
         ],
         "source": [
            "# creating the vocabulary\n",
            "special_tokens = [\"<unk>\", \"<pad>\"]\n",
            "\n",
            "# setting a minimum frequency for the tokens ... 30 times in 420,000 sentences is not a lot\n",
            "vocab = torchtext.vocab.build_vocab_from_iterator(\n",
            "    train_data[\"tokens\"], specials=special_tokens, min_freq=30\n",
            ")\n",
            "vocab.set_default_index(vocab[\"<unk>\"])\n",
            "len(vocab)"
         ]
      },
      {
         "cell_type": "markdown",
         "metadata": {},
         "source": [
            "We now have a vocabulary of 7,827 unique words (including the special tokens). The Vocab object has a method that is used to identify unknown words and replace them with the unknown token. We utilize that method to assign the index of \"unk\".\n",
            "\n",
            "Now that we have the vocabulary, we can numerically encode the words in the data using indices from the vocabulary we just created. We also need to pad the sequences so that they're all the same length and we don't run into issues when inputting them into the model."
         ]
      },
      {
         "cell_type": "code",
         "execution_count": 12,
         "metadata": {},
         "outputs": [
            {
               "data": {
                  "application/vnd.jupyter.widget-view+json": {
                     "model_id": "7f2c4b2c38eb4ee2a0b9ffc058112870",
                     "version_major": 2,
                     "version_minor": 0
                  },
                  "text/plain": [
                     "Map:   0%|          | 0/420000 [00:00<?, ? examples/s]"
                  ]
               },
               "metadata": {},
               "output_type": "display_data"
            },
            {
               "data": {
                  "application/vnd.jupyter.widget-view+json": {
                     "model_id": "b109cccaff9746cb8edb70a8f6d7046e",
                     "version_major": 2,
                     "version_minor": 0
                  },
                  "text/plain": [
                     "Map:   0%|          | 0/140000 [00:00<?, ? examples/s]"
                  ]
               },
               "metadata": {},
               "output_type": "display_data"
            }
         ],
         "source": [
            "def numericalize_example(obs, vocab):\n",
            "    ids = vocab.lookup_indices(obs[\"tokens\"])\n",
            "    return {\"ids\": ids}\n",
            "\n",
            "\n",
            "train_data = train_data.map(numericalize_example, fn_kwargs={\"vocab\": vocab})\n",
            "valid_data = valid_data.map(numericalize_example, fn_kwargs={\"vocab\": vocab})\n",
            "# test_data = test_data.map(numericalize_example, fn_kwargs={\"vocab\": vocab})"
         ]
      },
      {
         "cell_type": "code",
         "execution_count": 16,
         "metadata": {},
         "outputs": [],
         "source": [
            "train_data = train_data.with_format(\"torch\", columns=[\"ids\", \"label\"])\n",
            "valid_data = valid_data.with_format(\"torch\", columns=[\"ids\", \"label\"])\n",
            "# test_data = test_data.with_format(\"torch\", columns = [\"ids\", \"label\"])"
         ]
      },
      {
         "cell_type": "markdown",
         "metadata": {},
         "source": [
            "We're going to make use of data loaders. This will allow us to load the data in batches, which will be useful for training the model. This is where we'll use the padding process mentioned above. In this process we need to adequately structure the data so that it can be input into the model. We'll make use of a collate function to do this. Since we're working with PyTorch, we'll create a single tensor for each batch of data and a single tensor for the labels. Note that the data tensor will have a shape of (batch_size, max_length) and the labels tensor will have a shape of (batch_size, 1)."
         ]
      },
      {
         "cell_type": "code",
         "execution_count": 19,
         "metadata": {},
         "outputs": [],
         "source": [
            "pad_index = vocab[\"<pad>\"]\n",
            "\n",
            "\n",
            "def get_collate_fn(pad_index):\n",
            "    def collate_fn(batch):\n",
            "        batch_ids = [doc[\"ids\"] for doc in batch]\n",
            "        batch_ids = nn.utils.rnn.pad_sequence(\n",
            "            batch_ids, padding_value=pad_index, batch_first=True\n",
            "        )\n",
            "        batch_labels = [doc[\"label\"] for doc in batch]\n",
            "        batch_labels = torch.stack(batch_labels)\n",
            "        return {\"ids\": batch_ids, \"label\": batch_labels}\n",
            "\n",
            "    return collate_fn\n",
            "\n",
            "\n",
            "def get_data_loader(dataset, batch_size, pad_index, shuffle=False):\n",
            "    collate_fn = get_collate_fn(pad_index)\n",
            "    data_loader = torch.utils.data.DataLoader(\n",
            "        dataset=dataset, batch_size=batch_size, collate_fn=collate_fn, shuffle=shuffle\n",
            "    )\n",
            "    return data_loader\n"
         ]
      },
      {
         "cell_type": "markdown",
         "metadata": {},
         "source": [
            "Now we shall set the batch size and create the data loaders for the training, validation and test sets."
         ]
      },
      {
         "cell_type": "code",
         "execution_count": null,
         "metadata": {},
         "outputs": [],
         "source": [
            "batch_size = 256\n",
            "\n",
            "train_loader = get_data_loader(train_data, batch_size, pad_index, shuffle=True)\n",
            "valid_loader = get_data_loader(valid_data, batch_size, pad_index, shuffle=False)\n",
            "# test_loader = get_data_loader(test_data, batch_size, pad_index, shuffle=False)\n"
         ]
      }
   ],
   "metadata": {
      "kernelspec": {
         "display_name": "base",
         "language": "python",
         "name": "python3"
      },
      "language_info": {
         "codemirror_mode": {
            "name": "ipython",
            "version": 3
         },
         "file_extension": ".py",
         "mimetype": "text/x-python",
         "name": "python",
         "nbconvert_exporter": "python",
         "pygments_lexer": "ipython3",
         "version": "3.10.12"
      }
   },
   "nbformat": 4,
   "nbformat_minor": 2
}
