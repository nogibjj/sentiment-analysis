{
   "cells": [
      {
         "cell_type": "markdown",
         "metadata": {},
         "source": [
            "# Sentiment Analysis\n",
            "\n",
            "### ECE590 Homework assignment 2\n",
            "Name: Javier Cervantes\n",
            "\n",
            "net id: jc1010\n",
            "\n",
            "We are interested in sentiment analysis. Given a short document, we wish to assess whether the corresponding sentiment is positive (label 𝑦=1 ) or negative (label 𝑦=0). The assignment is as follows: \n",
            "\n",
            "1. For every word, we will learn a corresponding d-dimensional vector $x_i \\in \\mathbb{R}^d$ for word $i$ in the vocabulary. \n",
            "\n",
            "2. Assume that there are $M_j$ words in document $j$. The feature vector for this document is $f_j = \\frac{1}{M_j} \\sum_{i=1}^{M_j} x_{(m, j)}$ such that $x_{(m, j)}$ is the d-dimensional vector for the m-th word in document j.\n",
            "\n",
            "3. The probability of positive sentiment for document j is modeled as $P(y_j = 1 | f_j) = \\sigma[w \\cdot f_j + b]$ where $\\sigma$ is the sigmoid function, $w \\in \\mathbb{R}^d$ is the weight vector and $b \\in \\mathbb{R}$ is the bias."
         ]
      },
      {
         "cell_type": "markdown",
         "metadata": {},
         "source": [
            "We would like to maximize this probability as a function of our parameters. Given independent Bernoulli trials, we can define a likelihood function, $L(p|x)$, as:\n",
            "\n",
            "$$L(w|y, X) = \\prod_{i=1}^N P(y_i|x_i) = \\prod _{i=1}^N P(y = 1 | x_i)^{y_i} P(y_i=0 | x_i)^{1-y_i} = \\prod _{i=1}^N \\sigma(w^T x_i)^{y_i}[1-\\sigma(w^Tx_i)]^{1-y_i};$$\n",
            "\n",
            "where $p$ is the probability of success, $x_i$ is the outcome of the i-th trial, and N is the number of trials.\n",
            "\n",
            "We can rewrite the likelihood function as: \n",
            "\n",
            "$$ log(L(w|y, X)) = \\sum_{i=1}^N y_i log(\\sigma(w^T x_i)) + (1-y_i) log(1-\\sigma(w^T x_i))$$\n",
            "\n",
            "This is called the log-likelihood function. Note that maximizing the log-likelihood is equivalent to minimizing the negative log-likelihood. We shall define our cost function $C(w)$ as the negative log-likelihood function. This function is called the **Cross Entropy Loss Function**:\n",
            "\n",
            "$$C(w) = - \\Big [ \\sum_{i=1}^N y_i log(\\sigma(w^T x_i)) + (1-y_i) log(1-\\sigma(w^T x_i)) \\Big ]; \\\\ \\text{where } \\sigma(w^Tx) = \\frac{1}{1+exp^{-w^Tx}} $$\n",
            "\n",
            "Given that there's no closed-form solution to the minimization of this cost function, we must use another approach."
         ]
      },
      {
         "cell_type": "markdown",
         "metadata": {},
         "source": [
            "### Gradient Descent\n",
            "\n",
            "Gradient descent involves starting at a random point, evaluating the loss function at that point, then calculating the gradient of the loss function with respect to its parameters. To define the next point, we take a step in the direction opposite to the gradient, scaled by a learning rate:\n",
            "\n",
            "$$ w_{t+1} = w_t - \\alpha \\nabla_{|w_t} C(w)_{|w_t} $$\n",
            "\n",
            "Where $\\alpha$ is the learning rate, and $\\nabla_{|w_t} C(w)$ is the gradient of the cost function at point $w_t$.\n",
            "\n",
            "Given this definition, we face a problem for neural networks with large parameter vectors $w$, wherein the sensitivity of the loss function $L(w)$ varies for each component. This means that having a single learning rate $\\alpha$ for all components of $w$ is far from ideal.\n",
            "\n",
            "To address this issue, we can introduce a $d \\times d$ matrix, $P$, called the preconditioner matrix. One important property of this matrix is that it's positive definite, which means that  $\\nabla _w L(w) \\cdot P \\nabla _w L(w) > 0$ which ensures that each step in the gradient descent process is still taken in the same direction as the previously defined gradient.\n",
            "\n",
            "This leaves us with a modified gradient descent algorithm: $$ w_{t+1} = w_t - \\alpha P \\nabla_{|w_t} C(w)_{|w_t} $$\n",
            "\n",
            "Where $\\alpha$ is the learning rate, and $P$ is the positive definite matrix.\n",
            "\n",
            "RMSprop proposes $P$ such that it scales each gradient in an operation similar to normalization: \n",
            "\n",
            "$$ P_{k} = diag \\Bigg (\\frac{1}{\\lambda + \\sqrt {V_{k}}} \\Bigg); \\\\ \\text{where } V_{k} = \\gamma V_{k-1} + (1-\\gamma) g_k \\odot g_k $$ \n",
            "where $g_k$ is the gradient at iteration k, $\\lambda$ is a small number to avoid division by zero, and $ \\odot $ is the Hadamard product.\n",
            "\n",
            "Choosing such a matrix has an effect on the learning rate such that, for those dimensions that have been move volatile, the learning rate is decreased, and viceversa. This modification is particularly useful for complicated loss functions.\n",
            "\n",
            "One proposed extension of the RMSprop is to also track the mean of the gradient: $m_k = \\gamma_1 m_{k-1} + (1-\\gamma_1) g_k$. This proposed extension allows the convergence process to be more efficient. If the gradient is consistently pointing in the same direction, the learning rate is increased by the average. Alternatively, if the gradient is consistently changing direction, the learning rate is decreased by the average. The updated algorithm is:\n",
            "\n",
            "$$ w_{k+1} = w_k - \\alpha \\frac{m_{k}}{\\sqrt{V_{k} + \\lambda}} $$\n",
            "\n",
            "Upon observing these extensions we can identify a potential issue that arises during the first couple of iterations. Since the moving averages of the mean and variance are initialized to zero, depending on the levels of $\\gamma_1$ and $\\gamma_2$, the value of $m_k$ and $V_k$ can be close to zero. To address this issue, a final extension is proposed: \n",
            "\n",
            "$$ \\hat m_k = \\frac{m_k}{1-\\gamma_1^k} \\text{ and } \\hat V_k = \\frac{V_k}{1-\\gamma_2^k} $$\n",
            "\n",
            "This leads to the final expression of the gradient descent algorithm called **Adam**:\n",
            "\n",
            "$$ w_{k+1} = w_k - \\alpha \\frac{\\hat m_{k}}{\\sqrt{\\hat V_{k} + \\lambda}};$$\n",
            "$$ \\hat m_k = \\frac{m_k}{1-\\gamma_1^k} \\text{ and } \\hat V_k = \\frac{V_k}{1-\\gamma_2^k}; $$\n",
            "$$ m_k = \\gamma_1 m_{k-1} + (1-\\gamma_1) g_k \\text{ and } V_{k} = \\gamma_2 V_{k-1} + (1-\\gamma_2) g_k \\odot g_k; $$\n",
            "\n",
            "\n",
            "\n",
            "\n"
         ]
      },
      {
         "cell_type": "markdown",
         "metadata": {},
         "source": [
            "## Sentiment Analysis\n",
            "\n",
            "We will use the process described above to perform sentiment analysis on the `yelp_polarity` dataset. This dataset contains 560,000 training samples and 38,000 testing samples. Each sample is a review of a business, and is labeled as either positive or negative. The dataset is available at: https://huggingface.co/datasets/yelp_polarity."
         ]
      },
      {
         "cell_type": "code",
         "execution_count": 1,
         "metadata": {},
         "outputs": [],
         "source": [
            "from datasets import load_dataset\n",
            "import torch\n",
            "import torch.nn as nn\n",
            "import torch.optim as optim\n",
            "import torchtext\n",
            "from nltk.corpus import stopwords\n",
            "import numpy as np\n",
            "import tqdm\n",
            "import collections\n",
            "from sklearn.metrics import confusion_matrix\n",
            "import seaborn as sns"
         ]
      },
      {
         "cell_type": "code",
         "execution_count": 2,
         "metadata": {},
         "outputs": [],
         "source": [
            "seed = 257\n",
            "\n",
            "np.random.seed(seed)\n",
            "torch.manual_seed(seed)\n",
            "torch.cuda.manual_seed(seed)\n",
            "torch.backends.cudnn.deterministic = True"
         ]
      },
      {
         "cell_type": "markdown",
         "metadata": {},
         "source": [
            "## Prepare the data\n",
            "\n",
            "We begin by tokenizing and cleaning the text. In this process, we'll remove punctuation, convert to lowercase, and remove stopwords. I believe that it's worth noting that removing stop words might be problematic in some model designs. For this particular model, which doesn't take into account word order, removing words like \"not\" should not affect the model's performance because the model won't have the capability of identifying where upon a given document the word \"not\" is located."
         ]
      },
      {
         "cell_type": "code",
         "execution_count": 3,
         "metadata": {},
         "outputs": [],
         "source": [
            "# load the dataset\n",
            "train_data, test_data = load_dataset(\"yelp_polarity\", split=[\"train\", \"test\"])"
         ]
      },
      {
         "cell_type": "code",
         "execution_count": 4,
         "metadata": {},
         "outputs": [],
         "source": [
            "# tokenize the dataset\n",
            "tokenizer = torchtext.data.utils.get_tokenizer(\"basic_english\")\n",
            "\n",
            "\n",
            "def tokenize(obs, tokenizer, max_length):\n",
            "    \"\"\"\n",
            "    Tokenize an observation\n",
            "    max_length: the maximum length of the tokenized sequence\n",
            "    \"\"\"\n",
            "    return {\"tokens\": tokenizer(obs[\"text\"])[:max_length]}"
         ]
      },
      {
         "cell_type": "code",
         "execution_count": 5,
         "metadata": {},
         "outputs": [],
         "source": [
            "# remove stopwords and punctuation\n",
            "stop_words = stopwords.words(\"english\")\n",
            "\n",
            "\n",
            "def remove_stopwords(obs):\n",
            "    \"\"\"\n",
            "    Removes stopwords from tokens for each obs in Dataset\n",
            "    \"\"\"\n",
            "    obs[\"tokens\"] = [word for word in obs[\"tokens\"] if word not in stop_words]\n",
            "    return obs\n",
            "\n",
            "\n",
            "def remove_punctuation(obs):\n",
            "    \"\"\"\n",
            "    Removes punctuation from tokens for each obs in Dataset\n",
            "    \"\"\"\n",
            "    obs[\"tokens\"] = [word for word in obs[\"tokens\"] if word.isalpha()]\n",
            "    return obs\n",
            "\n",
            "\n",
            "def tokenize_and_clean(obs, max_length):\n",
            "    \"\"\"\n",
            "    Tokenize, remove stopwords and punctuation from observation\n",
            "    \"\"\"\n",
            "    tokens = tokenizer(obs[\"text\"][:max_length])\n",
            "    tokens = [word for word in tokens if word not in stop_words]\n",
            "    tokens = [word for word in tokens if word.isalpha()]\n",
            "    return {\"tokens\": tokens}\n",
            "\n"
         ]
      },
      {
         "cell_type": "markdown",
         "metadata": {},
         "source": [
            "Working under the assumption that a document's sentiment can be identified rather quickly, I've set the maximum length of any given document to 100 words. This is a hyperparameter that can be adjusted to improve the model's performance."
         ]
      },
      {
         "cell_type": "code",
         "execution_count": 6,
         "metadata": {},
         "outputs": [],
         "source": [
            "max_length = 100\n",
            "\n",
            "train_data = train_data.map(tokenize_and_clean, fn_kwargs={\"max_length\": max_length})\n",
            "test_data = test_data.map(tokenize_and_clean, fn_kwargs={\"max_length\": max_length})"
         ]
      },
      {
         "cell_type": "markdown",
         "metadata": {},
         "source": [
            "Now that our data has been tokenized and cleaned, we can create a validation set. This validation set will allow us to monitor the model's performance during training with the objective of avoiding overfitting."
         ]
      },
      {
         "cell_type": "code",
         "execution_count": 7,
         "metadata": {},
         "outputs": [],
         "source": [
            "# validation data\n",
            "train_valid_data = train_data.train_test_split(test_size=0.25)\n",
            "train_data = train_valid_data[\"train\"]\n",
            "valid_data = train_valid_data[\"test\"]"
         ]
      },
      {
         "cell_type": "markdown",
         "metadata": {},
         "source": [
            "From the training data, we now proceed to create a vocabulary comprised of the training data's unique words. Given the large number of documents in the training set, I'll add a minimum frequency threshold of 30 times for every word to be included in the vocabulary. Given the large number of observations we have available, removing words that appear only a few times should not affect the model's performance and should help remove some of the noise.\n",
            "\n",
            "Also very important in the creation of our vocabulary is to add a couple of special tokens: one for padding and one for unknown words. The padding token will be used to make all documents the same length, and the unknown token will be used to catch words that are not in the vocabulary."
         ]
      },
      {
         "cell_type": "code",
         "execution_count": 8,
         "metadata": {},
         "outputs": [
            {
               "data": {
                  "text/plain": [
                     "7827"
                  ]
               },
               "execution_count": 8,
               "metadata": {},
               "output_type": "execute_result"
            }
         ],
         "source": [
            "# creating the vocabulary\n",
            "special_tokens = [\"<unk>\", \"<pad>\"]\n",
            "\n",
            "# setting a minimum frequency for the tokens ... 30 times in 420,000 sentences is negligible\n",
            "vocab = torchtext.vocab.build_vocab_from_iterator(\n",
            "    train_data[\"tokens\"], specials=special_tokens, min_freq=30\n",
            ")\n",
            "vocab.set_default_index(vocab[\"<unk>\"])\n",
            "len(vocab)"
         ]
      },
      {
         "cell_type": "markdown",
         "metadata": {},
         "source": [
            "We now have a vocabulary of 7,827 unique words (including the special tokens). The Vocab object has a method that is used to identify unknown words and replace them with the unknown token. We utilize that method to assign the index of \"unk\".\n",
            "\n",
            "Now that we have the vocabulary, we can numerically encode the words in the data using indices from the vocabulary we just created. We also need to pad the sequences so that they're all the same length and we don't run into issues when inputting them into the model."
         ]
      },
      {
         "cell_type": "code",
         "execution_count": 9,
         "metadata": {},
         "outputs": [],
         "source": [
            "def numericalize_example(obs, vocab):\n",
            "    ids = vocab.lookup_indices(obs[\"tokens\"])\n",
            "    return {\"ids\": ids}\n",
            "\n",
            "\n",
            "train_data = train_data.map(numericalize_example, fn_kwargs={\"vocab\": vocab})\n",
            "valid_data = valid_data.map(numericalize_example, fn_kwargs={\"vocab\": vocab})\n",
            "test_data = test_data.map(numericalize_example, fn_kwargs={\"vocab\": vocab})"
         ]
      },
      {
         "cell_type": "code",
         "execution_count": 10,
         "metadata": {},
         "outputs": [],
         "source": [
            "train_data = train_data.with_format(\"torch\", columns=[\"ids\", \"label\"])\n",
            "valid_data = valid_data.with_format(\"torch\", columns=[\"ids\", \"label\"])\n",
            "test_data = test_data.with_format(\"torch\", columns=[\"ids\", \"label\"])"
         ]
      },
      {
         "cell_type": "markdown",
         "metadata": {},
         "source": [
            "We're going to make use of data loaders. This will allow us to load the data in batches, which will be useful for training the model. This is where we'll use the padding process mentioned above. In this process we need to adequately structure the data so that it can be input into the model. We'll make use of a collate function to do this. Since we're working with PyTorch, we'll create a single tensor for each batch of data and a single tensor for the labels. Note that the data tensor will have a shape of (batch_size, max_length) and the labels tensor will have a shape of (batch_size, 1)."
         ]
      },
      {
         "cell_type": "code",
         "execution_count": 11,
         "metadata": {},
         "outputs": [],
         "source": [
            "pad_index = vocab[\"<pad>\"]\n",
            "\n",
            "\n",
            "def get_collate_fn(pad_index):\n",
            "    def collate_fn(batch):\n",
            "        batch_ids = [doc[\"ids\"] for doc in batch]\n",
            "        batch_ids = nn.utils.rnn.pad_sequence(\n",
            "            batch_ids, padding_value=pad_index, batch_first=True\n",
            "        )\n",
            "        batch_labels = [doc[\"label\"] for doc in batch]\n",
            "        batch_labels = torch.stack(batch_labels)\n",
            "        return {\"ids\": batch_ids, \"label\": batch_labels}\n",
            "\n",
            "    return collate_fn\n",
            "\n",
            "\n",
            "def get_data_loader(dataset, batch_size, pad_index, shuffle=False):\n",
            "    collate_fn = get_collate_fn(pad_index)\n",
            "    data_loader = torch.utils.data.DataLoader(\n",
            "        dataset=dataset, batch_size=batch_size, collate_fn=collate_fn, shuffle=shuffle\n",
            "    )\n",
            "    return data_loader"
         ]
      },
      {
         "cell_type": "markdown",
         "metadata": {},
         "source": [
            "Now we shall set the batch size and create the data loaders for the training, validation and test sets."
         ]
      },
      {
         "cell_type": "code",
         "execution_count": 12,
         "metadata": {},
         "outputs": [],
         "source": [
            "batch_size = 256\n",
            "\n",
            "train_loader = get_data_loader(train_data, batch_size, pad_index, shuffle=True)\n",
            "valid_loader = get_data_loader(valid_data, batch_size, pad_index, shuffle=False)\n",
            "test_loader = get_data_loader(test_data, batch_size, pad_index, shuffle=False)"
         ]
      },
      {
         "cell_type": "markdown",
         "metadata": {},
         "source": [
            "## Building the model\n",
            "\n",
            "PyTorch's architecture allows us to specifically define how the model flows through the different layers. We begin by defining an Embedding layer. Knowing full well that modern NLP models have multiple features, I'll posit that the features required for sentiment analysis are not as complex as those required for other tasks. For that reason, I'll set the embedding dimension to 20. This is a hyperparameter that can be adjusted to improve the model's performance. The output from the embedding layer will be averaged across the sequence dimension. This will result in a single *feature* vector for each document. A *sigmoid* activation function is then applied to the feature vector. This feature vector is then passed through a fully connected layer, which maps the feature vector to the output space which consists of logits corresponding to the two sentiment classes. \n",
            "\n",
            " "
         ]
      },
      {
         "cell_type": "code",
         "execution_count": 13,
         "metadata": {},
         "outputs": [],
         "source": [
            "class Sentiment(nn.Module):\n",
            "    def __init__(self, vocab_size, embed_dim, pad_index):\n",
            "        super(Sentiment, self).__init__()\n",
            "        self.embedding = nn.Embedding(vocab_size, embed_dim, padding_idx=pad_index)\n",
            "        self.fc = nn.Linear(embed_dim, 2)\n",
            "\n",
            "    def forward(self, x):\n",
            "        x = self.embedding(x)\n",
            "        x = x.mean(dim=1)\n",
            "        x = torch.sigmoid(x)\n",
            "        x = self.fc(x)\n",
            "\n",
            "        return x"
         ]
      },
      {
         "cell_type": "code",
         "execution_count": 14,
         "metadata": {},
         "outputs": [],
         "source": [
            "vocab_size = len(vocab)\n",
            "embed_dim = 20\n",
            "\n",
            "model = Sentiment(vocab_size, embed_dim, pad_index)"
         ]
      },
      {
         "cell_type": "markdown",
         "metadata": {},
         "source": [
            "As explained previously, we'll use the Cross Entropy Loss function. We'll make use of PyTorch's built-in CrossEntropyLoss function. As noted above, we'll use the Adam optimizer to minimize our chosen loss function. We'll set the learning rate to 0.01, which is a hyperparameter that can be adjusted to improve the model's performance.\n"
         ]
      },
      {
         "cell_type": "code",
         "execution_count": 15,
         "metadata": {},
         "outputs": [],
         "source": [
            "# loss function and optimizer\n",
            "criterion = nn.CrossEntropyLoss()\n",
            "optimizer = optim.Adam(model.parameters(), lr=0.001)"
         ]
      },
      {
         "cell_type": "markdown",
         "metadata": {},
         "source": [
            "When available, we'll use the GPU to train the model. A GPU is a great asset when the training process can be parallelized, as is the case with neural networks. We'll use PyTorch's built-in device function to check if a GPU is available and set the device accordingly."
         ]
      },
      {
         "cell_type": "code",
         "execution_count": 16,
         "metadata": {},
         "outputs": [
            {
               "name": "stdout",
               "output_type": "stream",
               "text": [
                  "cpu\n"
               ]
            }
         ],
         "source": [
            "device = torch.device(\"cuda\" if torch.cuda.is_available() else \"cpu\")\n",
            "print(device)\n",
            "model = model.to(device)\n",
            "criterion = criterion.to(device)"
         ]
      },
      {
         "cell_type": "markdown",
         "metadata": {},
         "source": [
            "Of particular note in the following training process is the optimization process. As stated above, gradient descent first flows through each layer of the model, then works its way back while calculating the gradients at each step. This process is called backpropagation. Again, PyTorch's built-in architecture allows us to easily perform this process."
         ]
      },
      {
         "cell_type": "code",
         "execution_count": 17,
         "metadata": {},
         "outputs": [],
         "source": [
            "# training the model\n",
            "def train(data_loader, model, criterion, optimizer, device):\n",
            "    model.train()\n",
            "    epoch_losses = []\n",
            "    epoch_accuracies = []\n",
            "    for batch in tqdm.tqdm(data_loader, desc=\"Training...\"):\n",
            "        ids = batch[\"ids\"].to(device)\n",
            "        label = batch[\"label\"].to(device)\n",
            "        prediction = model(ids)\n",
            "        loss = criterion(prediction, label)\n",
            "        accuracy = (prediction.argmax(1) == label).sum().item() / len(label)\n",
            "        optimizer.zero_grad()\n",
            "        loss.backward()\n",
            "        optimizer.step()\n",
            "        epoch_losses.append(loss.item())\n",
            "        epoch_accuracies.append(accuracy)\n",
            "    return np.mean(epoch_losses), np.mean(epoch_accuracies)\n",
            "\n",
            "\n",
            "# validation\n",
            "def evaluate(data_loader, model, criterion, device):\n",
            "    model.eval()\n",
            "    epoch_losses = []\n",
            "    epoch_accuracies = []\n",
            "    with torch.no_grad():\n",
            "        for batch in tqdm.tqdm(data_loader, desc=\"Evaluating...\"):\n",
            "            ids = batch[\"ids\"].to(device)\n",
            "            label = batch[\"label\"].to(device)\n",
            "            prediction = model(ids)\n",
            "            loss = criterion(prediction, label)\n",
            "            accuracy = (prediction.argmax(1) == label).sum().item() / len(label)\n",
            "            epoch_losses.append(loss.item())\n",
            "            epoch_accuracies.append(accuracy)\n",
            "    return np.mean(epoch_losses), np.mean(epoch_accuracies)"
         ]
      },
      {
         "cell_type": "code",
         "execution_count": 18,
         "metadata": {},
         "outputs": [
            {
               "name": "stderr",
               "output_type": "stream",
               "text": [
                  "Training...: 100%|██████████| 1641/1641 [00:23<00:00, 69.35it/s]\n",
                  "Evaluating...: 100%|██████████| 547/547 [00:06<00:00, 89.58it/s]\n"
               ]
            },
            {
               "name": "stdout",
               "output_type": "stream",
               "text": [
                  "Epoch: 0\n",
                  "Train Loss: 0.6334, Train Accuracy: 0.6755\n",
                  "Valid Loss: 0.5422, Valid Accuracy: 0.7459\n",
                  "\n"
               ]
            },
            {
               "name": "stderr",
               "output_type": "stream",
               "text": [
                  "Training...: 100%|██████████| 1641/1641 [00:23<00:00, 69.12it/s]\n",
                  "Evaluating...: 100%|██████████| 547/547 [00:06<00:00, 87.82it/s]\n"
               ]
            },
            {
               "name": "stdout",
               "output_type": "stream",
               "text": [
                  "Epoch: 1\n",
                  "Train Loss: 0.4992, Train Accuracy: 0.7613\n",
                  "Valid Loss: 0.4786, Valid Accuracy: 0.7673\n",
                  "\n"
               ]
            },
            {
               "name": "stderr",
               "output_type": "stream",
               "text": [
                  "Training...: 100%|██████████| 1641/1641 [00:23<00:00, 69.88it/s]\n",
                  "Evaluating...: 100%|██████████| 547/547 [00:06<00:00, 87.01it/s]\n"
               ]
            },
            {
               "name": "stdout",
               "output_type": "stream",
               "text": [
                  "Epoch: 2\n",
                  "Train Loss: 0.4655, Train Accuracy: 0.7760\n",
                  "Valid Loss: 0.4628, Valid Accuracy: 0.7751\n",
                  "\n"
               ]
            },
            {
               "name": "stderr",
               "output_type": "stream",
               "text": [
                  "Training...: 100%|██████████| 1641/1641 [00:24<00:00, 68.29it/s]\n",
                  "Evaluating...: 100%|██████████| 547/547 [00:06<00:00, 82.40it/s]\n"
               ]
            },
            {
               "name": "stdout",
               "output_type": "stream",
               "text": [
                  "Epoch: 3\n",
                  "Train Loss: 0.4532, Train Accuracy: 0.7822\n",
                  "Valid Loss: 0.4557, Valid Accuracy: 0.7791\n",
                  "\n"
               ]
            },
            {
               "name": "stderr",
               "output_type": "stream",
               "text": [
                  "Training...: 100%|██████████| 1641/1641 [00:24<00:00, 65.82it/s]\n",
                  "Evaluating...: 100%|██████████| 547/547 [00:06<00:00, 78.72it/s]\n"
               ]
            },
            {
               "name": "stdout",
               "output_type": "stream",
               "text": [
                  "Epoch: 4\n",
                  "Train Loss: 0.4468, Train Accuracy: 0.7858\n",
                  "Valid Loss: 0.4527, Valid Accuracy: 0.7801\n",
                  "\n"
               ]
            },
            {
               "name": "stderr",
               "output_type": "stream",
               "text": [
                  "Training...: 100%|██████████| 1641/1641 [00:24<00:00, 66.06it/s]\n",
                  "Evaluating...: 100%|██████████| 547/547 [00:06<00:00, 89.64it/s]\n"
               ]
            },
            {
               "name": "stdout",
               "output_type": "stream",
               "text": [
                  "Epoch: 5\n",
                  "Train Loss: 0.4428, Train Accuracy: 0.7880\n",
                  "Valid Loss: 0.4506, Valid Accuracy: 0.7816\n",
                  "\n"
               ]
            },
            {
               "name": "stderr",
               "output_type": "stream",
               "text": [
                  "Training...: 100%|██████████| 1641/1641 [00:23<00:00, 71.25it/s]\n",
                  "Evaluating...: 100%|██████████| 547/547 [00:06<00:00, 88.94it/s]\n"
               ]
            },
            {
               "name": "stdout",
               "output_type": "stream",
               "text": [
                  "Epoch: 6\n",
                  "Train Loss: 0.4403, Train Accuracy: 0.7896\n",
                  "Valid Loss: 0.4490, Valid Accuracy: 0.7828\n",
                  "\n"
               ]
            },
            {
               "name": "stderr",
               "output_type": "stream",
               "text": [
                  "Training...: 100%|██████████| 1641/1641 [00:24<00:00, 66.33it/s]\n",
                  "Evaluating...: 100%|██████████| 547/547 [00:06<00:00, 82.84it/s]\n"
               ]
            },
            {
               "name": "stdout",
               "output_type": "stream",
               "text": [
                  "Epoch: 7\n",
                  "Train Loss: 0.4385, Train Accuracy: 0.7902\n",
                  "Valid Loss: 0.4485, Valid Accuracy: 0.7834\n",
                  "\n"
               ]
            },
            {
               "name": "stderr",
               "output_type": "stream",
               "text": [
                  "Training...: 100%|██████████| 1641/1641 [00:23<00:00, 69.30it/s]\n",
                  "Evaluating...: 100%|██████████| 547/547 [00:06<00:00, 88.69it/s]\n"
               ]
            },
            {
               "name": "stdout",
               "output_type": "stream",
               "text": [
                  "Epoch: 8\n",
                  "Train Loss: 0.4371, Train Accuracy: 0.7911\n",
                  "Valid Loss: 0.4481, Valid Accuracy: 0.7834\n",
                  "\n"
               ]
            },
            {
               "name": "stderr",
               "output_type": "stream",
               "text": [
                  "Training...: 100%|██████████| 1641/1641 [00:23<00:00, 69.94it/s]\n",
                  "Evaluating...: 100%|██████████| 547/547 [00:06<00:00, 87.91it/s] "
               ]
            },
            {
               "name": "stdout",
               "output_type": "stream",
               "text": [
                  "Epoch: 9\n",
                  "Train Loss: 0.4360, Train Accuracy: 0.7917\n",
                  "Valid Loss: 0.4476, Valid Accuracy: 0.7835\n",
                  "\n"
               ]
            },
            {
               "name": "stderr",
               "output_type": "stream",
               "text": [
                  "\n"
               ]
            }
         ],
         "source": [
            "n_epochs = 10\n",
            "best_valid_loss = float(\"inf\")\n",
            "\n",
            "metrics = collections.defaultdict(list)\n",
            "\n",
            "for epoch in range(n_epochs):\n",
            "    train_loss, train_accuracy = train(\n",
            "        train_loader, model, criterion, optimizer, device\n",
            "    )\n",
            "    valid_loss, valid_accuracy = evaluate(valid_loader, model, criterion, device)\n",
            "    print(f\"Epoch: {epoch}\")\n",
            "    print(f\"Train Loss: {train_loss:.4f}, Train Accuracy: {train_accuracy:.4f}\")\n",
            "    print(f\"Valid Loss: {valid_loss:.4f}, Valid Accuracy: {valid_accuracy:.4f}\")\n",
            "    print()\n",
            "    metrics[\"train_loss\"].append(train_loss)\n",
            "    metrics[\"train_accuracy\"].append(train_accuracy)\n",
            "    metrics[\"valid_loss\"].append(valid_loss)\n",
            "    metrics[\"valid_accuracy\"].append(valid_accuracy)\n",
            "\n",
            "    if valid_loss < best_valid_loss:\n",
            "        best_valid_loss = valid_loss\n",
            "        torch.save(model.state_dict(), \"best_model.pt\")"
         ]
      },
      {
         "cell_type": "markdown",
         "metadata": {},
         "source": [
            "## Model Assesment\n",
            "\n",
            "Now that the validation process has completed, we can assess the model's performance. By design, we stored the model at the point where the training process resulted in the lowest validation loss with the objective of avoiding overfitting. That is the model that we're going to test on our held out test set."
         ]
      },
      {
         "cell_type": "code",
         "execution_count": 19,
         "metadata": {},
         "outputs": [
            {
               "data": {
                  "text/plain": [
                     "<All keys matched successfully>"
                  ]
               },
               "execution_count": 19,
               "metadata": {},
               "output_type": "execute_result"
            }
         ],
         "source": [
            "model = Sentiment(vocab_size, embed_dim, pad_index)\n",
            "model.load_state_dict(torch.load(\"best_model.pt\"))"
         ]
      },
      {
         "cell_type": "code",
         "execution_count": 20,
         "metadata": {},
         "outputs": [
            {
               "name": "stderr",
               "output_type": "stream",
               "text": [
                  "Evaluating...: 100%|██████████| 149/149 [00:02<00:00, 62.73it/s]"
               ]
            },
            {
               "name": "stdout",
               "output_type": "stream",
               "text": [
                  "Test Loss: 0.4432, Test Accuracy: 0.787%\n"
               ]
            },
            {
               "name": "stderr",
               "output_type": "stream",
               "text": [
                  "\n"
               ]
            }
         ],
         "source": [
            "test_loss, test_acc = evaluate(test_loader, model, criterion, device)\n",
            "print(f\"Test Loss: {test_loss:.4f}, Test Accuracy: {test_acc:.3f}%\")"
         ]
      },
      {
         "cell_type": "markdown",
         "metadata": {},
         "source": [
            "Our model had a testing accuracy to 79%. By itself, this number doesn't tell us much other than the fact that it adds considerable value to a random approach. The distribution of true labels in our data is 50/50. That is considerable value-added by this model. Additionally, we must explore how balanced the model's predictions are by assessing its errors."
         ]
      },
      {
         "cell_type": "code",
         "execution_count": 21,
         "metadata": {},
         "outputs": [],
         "source": [
            "# Lists to store the predicted and true labels\n",
            "predicted_labels = []\n",
            "true_labels = []\n",
            "\n",
            "# Iterate over the test data\n",
            "for batch in test_loader:\n",
            "    # Move the data and labels to the same device as your model (if not already)\n",
            "    data = batch[\"ids\"].to(device)\n",
            "    labels = batch[\"label\"].to(device)\n",
            "\n",
            "    # Make a prediction\n",
            "    with torch.no_grad():\n",
            "        outputs = model(data)\n",
            "\n",
            "    # Get the predicted class\n",
            "    _, preds = torch.max(outputs, 1)\n",
            "\n",
            "    # Store the predicted and true labels\n",
            "    predicted_labels.extend(preds.cpu().numpy())\n",
            "    true_labels.extend(labels.cpu().numpy())\n",
            "\n",
            "# Convert the lists to numpy arrays\n",
            "predicted_labels = np.array(predicted_labels)\n",
            "true_labels = np.array(true_labels)"
         ]
      },
      {
         "cell_type": "code",
         "execution_count": 22,
         "metadata": {},
         "outputs": [
            {
               "data": {
                  "text/plain": [
                     "Text(0.5, 1.0, 'Confusion Matrix')"
                  ]
               },
               "execution_count": 22,
               "metadata": {},
               "output_type": "execute_result"
            },
            {
               "data": {
                  "image/png": "[encoded data removed]",
                  "text/plain": [
                     "<Figure size 640x480 with 2 Axes>"
                  ]
               },
               "metadata": {},
               "output_type": "display_data"
            }
         ],
         "source": [
            "# confusion matrix heatmap with seaborn\n",
            "cm = confusion_matrix(true_labels, predicted_labels)\n",
            "ax = sns.heatmap(cm, annot=True, fmt=\"d\", cmap=\"Blues\")\n",
            "ax.set_xlabel(\"Predicted labels\")\n",
            "ax.set_ylabel(\"True labels\")\n",
            "ax.set_title(\"Confusion Matrix\")"
         ]
      },
      {
         "cell_type": "code",
         "execution_count": 23,
         "metadata": {},
         "outputs": [
            {
               "name": "stdout",
               "output_type": "stream",
               "text": [
                  "\n",
                  "Precision: 0.78\n",
                  "Recall: 0.79\n"
               ]
            }
         ],
         "source": [
            "# precision: out of all the predicted positive classes, how many were actually positive\n",
            "precision = np.sum(cm[1, 1]) / (np.sum(cm[1, 1]) + np.sum(cm[0, 1]))\n",
            "print(\"\\nPrecision: {:.2f}\".format(precision))\n",
            "\n",
            "# recall: out of all the actual positive classes, how many were predicted positive\n",
            "recall = np.sum(cm[1, 1]) / (np.sum(cm[1, 1]) + np.sum(cm[1, 0]))\n",
            "print(\"Recall: {:.2f}\".format(recall))"
         ]
      },
      {
         "cell_type": "markdown",
         "metadata": {},
         "source": [
            "From the above results we can conclude that our model is very well balanced in its predictions.\n",
            "\n",
            "Overall, these initial results are quite promising. As we explained throughout the process, there are still a few hyperparameters that can be adjusted to improve the model's performance. Additionally, we shall explore ways of adding more context to our embeddings by finding a way to include word order."
         ]
      },
      {
         "cell_type": "markdown",
         "metadata": {},
         "source": [
            "### Further considerations\n",
            "\n",
            "One of our objectives was to create word embeddings specific to sentiment analysis. Arguably, we can use the word embeddings learned in this process for sentiment analysis on similar datasets. Let's see a couple of embeddings examples to see if we can extract any insights from them:"
         ]
      },
      {
         "cell_type": "code",
         "execution_count": 24,
         "metadata": {},
         "outputs": [],
         "source": [
            "# add embeddings to vocab\n",
            "embeddings = model.embedding.weight.detach().cpu().numpy()\n",
            "word_to_embedding = {word: embeddings[i] for word, i in vocab.get_stoi().items()}"
         ]
      },
      {
         "cell_type": "code",
         "execution_count": 28,
         "metadata": {},
         "outputs": [
            {
               "name": "stdout",
               "output_type": "stream",
               "text": [
                  "Comparing fantastic and terrible: -202.92\n",
                  "Comparing fantastic and phenomenal: 124.73\n",
                  "Comparing fantastic and great: 82.63\n",
                  "Comparing fantastic and bad: -49.91\n",
                  "Comparing terrible and bad: 83.04\n",
                  "Comparing fantastic and dog: 0.39\n"
               ]
            }
         ],
         "source": [
            "def compare_embeddings(word1, word2):\n",
            "    \"\"\"\n",
            "    Compare the embeddings of two words\n",
            "    \"\"\"\n",
            "    if word1 not in word_to_embedding:\n",
            "        word1 = \"<unk>\"\n",
            "    if word2 not in word_to_embedding:\n",
            "        word2 = \"<unk>\"\n",
            "\n",
            "    print(\n",
            "        f\"Comparing {word1} and {word2}: {np.dot(word_to_embedding[word1], word_to_embedding[word2]):.2f}\"\n",
            "    )\n",
            "\n",
            "\n",
            "compare_embeddings(\"fantastic\", \"terrible\")\n",
            "compare_embeddings(\"fantastic\", \"phenomenal\")\n",
            "compare_embeddings(\"fantastic\", \"great\")\n",
            "compare_embeddings(\"fantastic\", \"bad\")\n",
            "compare_embeddings(\"terrible\", \"bad\")\n",
            "compare_embeddings(\"fantastic\", \"dog\")"
         ]
      },
      {
         "cell_type": "markdown",
         "metadata": {},
         "source": [
            "From the above results we can gather some intuition into some of the relationships that were learned: We would expect that words that convey similar sentiment would have similar embeddings (and therefore a positive dot product). Words that convey sentiment in the same direction but with different intensity would be positive but with a lower dot product. Words that convey sentiment in the opposite direction would have a negative dot product. Finally, comparing a word with sentimental value to a word with no sentimental value should result in a dot product close to zero."
         ]
      }
   ],
   "metadata": {
      "kernelspec": {
         "display_name": "base",
         "language": "python",
         "name": "python3"
      },
      "language_info": {
         "codemirror_mode": {
            "name": "ipython",
            "version": 3
         },
         "file_extension": ".py",
         "mimetype": "text/x-python",
         "name": "python",
         "nbconvert_exporter": "python",
         "pygments_lexer": "ipython3",
         "version": "3.10.12"
      }
   },
   "nbformat": 4,
   "nbformat_minor": 2
}
