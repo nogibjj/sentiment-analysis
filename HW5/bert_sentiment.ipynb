{
 "cells": [
  {
   "cell_type": "markdown",
   "metadata": {},
   "source": [
    "## Bert & GPT-2\n",
    "\n",
    "### ECE590 Homework assignment 5\n",
    "Name: Javier Cervantes\n",
    "\n",
    "net id: jc1010\n"
   ]
  },
  {
   "cell_type": "markdown",
   "metadata": {},
   "source": [
    "1. We will use the BERT model to perform sentiment analysis. The sentiment is performed via a linear model applied to the output vector above the [CLS] input in BERT (that output vector is referred to as C).\n",
    "\n",
    "    Use a pretrained BERT model from:\n",
    "    https://github.com/google-research/bert\n",
    "\n",
    "    And use sentiment data from:\n",
    "    https://huggingface.co/datasets/yelp_polarity\n",
    "\n",
    "    Build a sentiment-analysis model based on BERT, using the above data. Do a detailed analysis of performance, and compare the accuracy of this model to results you achieved with the simpler baseline model from the prior homework.\n",
    "\n",
    "    Implement the model two ways:\n",
    "\n",
    "    (a) Leave all BERT parameters unchanged, and just learn the linear model at the output.\n",
    "    \n",
    "    (b) Fine-tune all BERT parameters, while also learning the linear layer at the output.\n",
    "\n",
    "    In your solution, provide all code and also a detailed summary of the analysis of the results.\n"
   ]
  },
  {
   "cell_type": "code",
   "execution_count": 24,
   "metadata": {},
   "outputs": [],
   "source": [
    "from transformers import BertTokenizerFast, BertModel\n",
    "\n",
    "# existing bert models\n",
    "bert_models = {\n",
    "    \"base\": \"google/bert-base-uncased\",\n",
    "    \"small\": \"google/bert_uncased_L-4_H-512_A-8\",\n",
    "    \"medium\": \"google/bert_uncased_L-8_H-512_A-8\",\n",
    "}\n",
    "\n",
    "# pick a bert model\n",
    "bert_model_name = \"medium\"\n",
    "\n",
    "# load tokenizer and model\n",
    "tokenizer = BertTokenizerFast.from_pretrained(bert_models[bert_model_name])\n",
    "bert_model = BertModel.from_pretrained(bert_models[bert_model_name])"
   ]
  },
  {
   "cell_type": "code",
   "execution_count": 26,
   "metadata": {},
   "outputs": [
    {
     "name": "stderr",
     "output_type": "stream",
     "text": [
      "Map: 100%|██████████| 560000/560000 [04:27<00:00, 2089.85 examples/s]\n",
      "Map: 100%|██████████| 38000/38000 [00:18<00:00, 2090.18 examples/s]\n"
     ]
    }
   ],
   "source": [
    "from torch.utils.data import DataLoader\n",
    "import torch\n",
    "from datasets import load_dataset\n",
    "import numpy as np\n",
    "\n",
    "seed = 257\n",
    "\n",
    "np.random.seed(seed)\n",
    "torch.manual_seed(seed)\n",
    "torch.cuda.manual_seed(seed)\n",
    "torch.backends.cudnn.deterministic = True\n",
    "\n",
    "# load the yelp_polarity dataset\n",
    "train_data, test_data = load_dataset(\"yelp_polarity\", split=[\"train\", \"test\"])\n",
    "\n",
    "max_length = 256\n",
    "\n",
    "\n",
    "# define a function to tokenize the dataset\n",
    "def tokenize(batch):\n",
    "    return tokenizer(\n",
    "        batch[\"text\"][:max_length], padding=\"max_length\", max_length=max_length\n",
    "    )\n",
    "\n",
    "\n",
    "# tokenize the dataset\n",
    "train_data = train_data.map(tokenize)\n",
    "test_data = test_data.map(tokenize)\n",
    "\n",
    "# convert the dataset to pytorch tensors\n",
    "train_data.set_format(\"torch\", columns=[\"input_ids\", \"attention_mask\", \"label\"])\n",
    "test_data.set_format(\"torch\", columns=[\"input_ids\", \"attention_mask\", \"label\"])\n",
    "\n",
    "# validation data\n",
    "train_valid_data = train_data.train_test_split(test_size=0.25)\n",
    "train_data = train_valid_data[\"train\"]\n",
    "valid_data = train_valid_data[\"test\"]\n",
    "\n",
    "# create a dataloader\n",
    "train_loader = DataLoader(train_data, batch_size=256, shuffle=True)\n",
    "valid_loader = DataLoader(valid_data, batch_size=256)\n",
    "test_loader = DataLoader(test_data, batch_size=256)"
   ]
  },
  {
   "cell_type": "code",
   "execution_count": 27,
   "metadata": {},
   "outputs": [],
   "source": [
    "from torch import nn\n",
    "from torch import optim\n",
    "import tqdm\n",
    "\n",
    "\n",
    "# Define a new model with BERT and a linear layer on top for classification\n",
    "class BertClassifier(nn.Module):\n",
    "    def __init__(self, bert_model, num_classes):\n",
    "        super().__init__()\n",
    "        self.bert_model = bert_model\n",
    "        self.classifier = nn.Linear(bert_model.config.hidden_size, num_classes)\n",
    "\n",
    "    def forward(self, input_ids, attention_mask):\n",
    "        outputs = self.bert_model(input_ids=input_ids, attention_mask=attention_mask)\n",
    "        logits = self.classifier(outputs.pooler_output)\n",
    "        return logits\n"
   ]
  },
  {
   "cell_type": "code",
   "execution_count": 28,
   "metadata": {},
   "outputs": [],
   "source": [
    "def train(model, criterion, optimizer, train_loader, device):\n",
    "    model.train()\n",
    "    epoch_losses = []\n",
    "    epoch_accuracies = []\n",
    "    for i, batch in tqdm.tqdm(\n",
    "        enumerate(train_loader), desc=\"Training ...\", total=len(train_loader)\n",
    "    ):\n",
    "        input_ids = batch[\"input_ids\"].to(device)\n",
    "        attention_mask = batch[\"attention_mask\"].to(device)\n",
    "        labels = batch[\"label\"].to(device)\n",
    "        outputs = model(input_ids, attention_mask)\n",
    "        loss = criterion(outputs, labels)\n",
    "        accuracy = (outputs.argmax(1) == labels).float().mean()\n",
    "        epoch_losses.append(loss.item())\n",
    "        epoch_accuracies.append(accuracy.item())\n",
    "        optimizer.zero_grad()\n",
    "        loss.backward()\n",
    "        optimizer.step()\n",
    "    return np.mean(epoch_losses), np.mean(epoch_accuracies)\n",
    "\n",
    "\n",
    "\n",
    "def validation(model, criterion, valid_loader, device):\n",
    "    model.eval()\n",
    "    epoch_losses = []\n",
    "    epoch_accuracies = []\n",
    "    for i, batch in tqdm.tqdm(\n",
    "        enumerate(valid_loader), desc=\"Validation ...\", total=len(valid_loader)\n",
    "    ):\n",
    "        input_ids = batch[\"input_ids\"].to(device)\n",
    "        attention_mask = batch[\"attention_mask\"].to(device)\n",
    "        labels = batch[\"label\"].to(device)\n",
    "        with torch.no_grad():\n",
    "            outputs = model(input_ids, attention_mask)\n",
    "            loss = criterion(outputs, labels)\n",
    "            accuracy = (outputs.argmax(1) == labels).float().mean()\n",
    "            epoch_losses.append(loss.item())\n",
    "            epoch_accuracies.append(accuracy.item())\n",
    "    return np.mean(epoch_losses), np.mean(epoch_accuracies)\n",
    "\n",
    "\n",
    "\n",
    "def train_model(\n",
    "    model, criterion, optimizer, train_loader, valid_loader, num_epochs, device\n",
    "):\n",
    "    best_valid_loss = float(\"inf\")\n",
    "    for epoch in range(num_epochs):\n",
    "        train_loss, train_accuracy = train(\n",
    "            model, criterion, optimizer, train_loader, device\n",
    "        )\n",
    "        valid_loss, valid_accuracy = validation(model, criterion, valid_loader, device)\n",
    "        print(f\"Epoch {epoch + 1}/{num_epochs}\")\n",
    "        print(f\"Training loss: {train_loss:.4f}\")\n",
    "        print(f\"Training accuracy: {train_accuracy:.4f}\")\n",
    "        print(f\"Validation loss: {valid_loss:.4f}\")\n",
    "        print(f\"Validation accuracy: {valid_accuracy:.4f}\")\n",
    "        print(\"-\" * 50)\n",
    "        params_grad = [param.requires_grad for param in model.bert_model.parameters()]\n",
    "        if False in params_grad:\n",
    "            full_freeze = \"freeze\"\n",
    "        else:\n",
    "            full_freeze = \"full\"\n",
    "        if valid_loss < best_valid_loss:\n",
    "            best_valid_loss = valid_loss\n",
    "            torch.save(\n",
    "                model.state_dict(), f\"../models/bert_{bert_model_name}_{full_freeze}_{max_length}max.pt\"\n",
    "            )"
   ]
  },
  {
   "cell_type": "markdown",
   "metadata": {},
   "source": [
    "> a) Leave all BERT parameters unchanged, and just learn the linear model at the output:"
   ]
  },
  {
   "cell_type": "code",
   "execution_count": 29,
   "metadata": {},
   "outputs": [],
   "source": [
    "\n",
    "# create the model\n",
    "model = BertClassifier(bert_model, num_classes=2)\n",
    "\n",
    "# freeze the BERT parameters so that we only learn the linear classifier\n",
    "for param in model.bert_model.parameters():\n",
    "    param.requires_grad = False"
   ]
  },
  {
   "cell_type": "code",
   "execution_count": 30,
   "metadata": {},
   "outputs": [
    {
     "name": "stdout",
     "output_type": "stream",
     "text": [
      "cuda\n"
     ]
    }
   ],
   "source": [
    "# define the hyperparameters\n",
    "lr = 2e-5\n",
    "num_epochs = 5\n",
    "\n",
    "# loss function and optimizer\n",
    "criterion = nn.CrossEntropyLoss()\n",
    "optimizer = optim.Adam(model.parameters(), lr=lr)\n",
    "\n",
    "# move the model and loss function to the GPU if available\n",
    "device = torch.device(\"cuda\" if torch.cuda.is_available() else \"cpu\")\n",
    "print(device)\n",
    "model = model.to(device)\n",
    "criterion = criterion.to(device)"
   ]
  },
  {
   "cell_type": "code",
   "execution_count": 31,
   "metadata": {},
   "outputs": [
    {
     "name": "stderr",
     "output_type": "stream",
     "text": [
      "Training ...: 100%|██████████| 1641/1641 [10:36<00:00,  2.58it/s]\n",
      "Validation ...: 100%|██████████| 547/547 [03:21<00:00,  2.72it/s]\n"
     ]
    },
    {
     "name": "stdout",
     "output_type": "stream",
     "text": [
      "Epoch 1/5\n",
      "Training loss: 0.6224\n",
      "Training accuracy: 0.6697\n",
      "Validation loss: 0.5650\n",
      "Validation accuracy: 0.7306\n",
      "--------------------------------------------------\n"
     ]
    },
    {
     "name": "stderr",
     "output_type": "stream",
     "text": [
      "Training ...: 100%|██████████| 1641/1641 [10:37<00:00,  2.57it/s]\n",
      "Validation ...: 100%|██████████| 547/547 [03:21<00:00,  2.72it/s]\n"
     ]
    },
    {
     "name": "stdout",
     "output_type": "stream",
     "text": [
      "Epoch 2/5\n",
      "Training loss: 0.5518\n",
      "Training accuracy: 0.7322\n",
      "Validation loss: 0.5223\n",
      "Validation accuracy: 0.7497\n",
      "--------------------------------------------------\n"
     ]
    },
    {
     "name": "stderr",
     "output_type": "stream",
     "text": [
      "Training ...: 100%|██████████| 1641/1641 [10:38<00:00,  2.57it/s]\n",
      "Validation ...: 100%|██████████| 547/547 [03:21<00:00,  2.72it/s]\n"
     ]
    },
    {
     "name": "stdout",
     "output_type": "stream",
     "text": [
      "Epoch 3/5\n",
      "Training loss: 0.5242\n",
      "Training accuracy: 0.7454\n",
      "Validation loss: 0.5025\n",
      "Validation accuracy: 0.7582\n",
      "--------------------------------------------------\n"
     ]
    },
    {
     "name": "stderr",
     "output_type": "stream",
     "text": [
      "Training ...: 100%|██████████| 1641/1641 [10:38<00:00,  2.57it/s]\n",
      "Validation ...: 100%|██████████| 547/547 [03:21<00:00,  2.72it/s]\n"
     ]
    },
    {
     "name": "stdout",
     "output_type": "stream",
     "text": [
      "Epoch 4/5\n",
      "Training loss: 0.5099\n",
      "Training accuracy: 0.7523\n",
      "Validation loss: 0.4908\n",
      "Validation accuracy: 0.7643\n",
      "--------------------------------------------------\n"
     ]
    },
    {
     "name": "stderr",
     "output_type": "stream",
     "text": [
      "Training ...: 100%|██████████| 1641/1641 [10:38<00:00,  2.57it/s]\n",
      "Validation ...: 100%|██████████| 547/547 [03:21<00:00,  2.72it/s]\n"
     ]
    },
    {
     "name": "stdout",
     "output_type": "stream",
     "text": [
      "Epoch 5/5\n",
      "Training loss: 0.5009\n",
      "Training accuracy: 0.7570\n",
      "Validation loss: 0.4831\n",
      "Validation accuracy: 0.7682\n",
      "--------------------------------------------------\n"
     ]
    }
   ],
   "source": [
    "# train the model\n",
    "train_model(model, criterion, optimizer, train_loader, valid_loader, num_epochs=num_epochs, device=device)\n"
   ]
  },
  {
   "cell_type": "markdown",
   "metadata": {},
   "source": [
    "> b) Fine-tune all BERT parameters, while also learning the linear layer at the output."
   ]
  },
  {
   "cell_type": "code",
   "execution_count": 22,
   "metadata": {},
   "outputs": [
    {
     "name": "stdout",
     "output_type": "stream",
     "text": [
      "cuda\n"
     ]
    }
   ],
   "source": [
    "# create the model\n",
    "model = BertClassifier(bert_model, num_classes=2)\n",
    "\n",
    "# define the hyperparameters\n",
    "lr = 2e-5\n",
    "num_epochs = 3\n",
    "\n",
    "# loss function and optimizer\n",
    "criterion = nn.CrossEntropyLoss()\n",
    "optimizer = optim.Adam(model.parameters(), lr=lr)\n",
    "\n",
    "# move the model and loss function to the GPU if available\n",
    "device = torch.device(\"cuda\" if torch.cuda.is_available() else \"cpu\")\n",
    "print(device)\n",
    "model = model.to(device)\n",
    "criterion = criterion.to(device)"
   ]
  },
  {
   "cell_type": "code",
   "execution_count": 23,
   "metadata": {},
   "outputs": [
    {
     "name": "stderr",
     "output_type": "stream",
     "text": [
      "Training ...: 100%|██████████| 1641/1641 [06:51<00:00,  3.99it/s]\n",
      "Validation ...: 100%|██████████| 547/547 [00:52<00:00, 10.39it/s]\n"
     ]
    },
    {
     "name": "stdout",
     "output_type": "stream",
     "text": [
      "Epoch 1/5\n",
      "Training loss: 0.3747\n",
      "Training accuracy: 0.8213\n",
      "Validation loss: 0.3177\n",
      "Validation accuracy: 0.8525\n",
      "--------------------------------------------------\n"
     ]
    },
    {
     "name": "stderr",
     "output_type": "stream",
     "text": [
      "Training ...: 100%|██████████| 1641/1641 [06:48<00:00,  4.02it/s]\n",
      "Validation ...: 100%|██████████| 547/547 [00:52<00:00, 10.47it/s]\n"
     ]
    },
    {
     "name": "stdout",
     "output_type": "stream",
     "text": [
      "Epoch 2/5\n",
      "Training loss: 0.3082\n",
      "Training accuracy: 0.8579\n",
      "Validation loss: 0.3003\n",
      "Validation accuracy: 0.8631\n",
      "--------------------------------------------------\n"
     ]
    },
    {
     "name": "stderr",
     "output_type": "stream",
     "text": [
      "Training ...: 100%|██████████| 1641/1641 [06:48<00:00,  4.02it/s]\n",
      "Validation ...: 100%|██████████| 547/547 [00:52<00:00, 10.50it/s]\n"
     ]
    },
    {
     "name": "stdout",
     "output_type": "stream",
     "text": [
      "Epoch 3/5\n",
      "Training loss: 0.2811\n",
      "Training accuracy: 0.8724\n",
      "Validation loss: 0.2918\n",
      "Validation accuracy: 0.8677\n",
      "--------------------------------------------------\n"
     ]
    },
    {
     "name": "stderr",
     "output_type": "stream",
     "text": [
      "Training ...: 100%|██████████| 1641/1641 [06:48<00:00,  4.02it/s]\n",
      "Validation ...: 100%|██████████| 547/547 [00:52<00:00, 10.47it/s]\n"
     ]
    },
    {
     "name": "stdout",
     "output_type": "stream",
     "text": [
      "Epoch 4/5\n",
      "Training loss: 0.2596\n",
      "Training accuracy: 0.8836\n",
      "Validation loss: 0.2913\n",
      "Validation accuracy: 0.8703\n",
      "--------------------------------------------------\n"
     ]
    },
    {
     "name": "stderr",
     "output_type": "stream",
     "text": [
      "Training ...: 100%|██████████| 1641/1641 [06:48<00:00,  4.02it/s]\n",
      "Validation ...: 100%|██████████| 547/547 [00:52<00:00, 10.42it/s]"
     ]
    },
    {
     "name": "stdout",
     "output_type": "stream",
     "text": [
      "Epoch 5/5\n",
      "Training loss: 0.2407\n",
      "Training accuracy: 0.8932\n",
      "Validation loss: 0.2957\n",
      "Validation accuracy: 0.8701\n",
      "--------------------------------------------------\n"
     ]
    },
    {
     "name": "stderr",
     "output_type": "stream",
     "text": [
      "\n"
     ]
    }
   ],
   "source": [
    "# fine-tune the model\n",
    "train_model(model, criterion, optimizer, train_loader, valid_loader, num_epochs=num_epochs, device=device)"
   ]
  },
  {
   "cell_type": "code",
   "execution_count": null,
   "metadata": {},
   "outputs": [],
   "source": [
    "# train the model\n",
    "train_model(model, criterion, optimizer, train_loader, valid_loader, num_epochs=num_epochs, device=device)"
   ]
  }
 ],
 "metadata": {
  "kernelspec": {
   "display_name": "base",
   "language": "python",
   "name": "python3"
  },
  "language_info": {
   "codemirror_mode": {
    "name": "ipython",
    "version": 3
   },
   "file_extension": ".py",
   "mimetype": "text/x-python",
   "name": "python",
   "nbconvert_exporter": "python",
   "pygments_lexer": "ipython3",
   "version": "3.8.10"
  }
 },
 "nbformat": 4,
 "nbformat_minor": 2
}
